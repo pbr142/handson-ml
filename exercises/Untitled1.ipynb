{
 "cells": [
  {
   "cell_type": "markdown",
   "metadata": {},
   "source": [
    "# Hands-on Advanced Neural Networks: "
   ]
  },
  {
   "cell_type": "markdown",
   "metadata": {},
   "source": [
    "## Imports"
   ]
  },
  {
   "cell_type": "code",
   "execution_count": 4,
   "metadata": {},
   "outputs": [],
   "source": [
    "import numpy as np\n",
    "from tensorflow import keras"
   ]
  },
  {
   "cell_type": "markdown",
   "metadata": {},
   "source": [
    "## Data"
   ]
  },
  {
   "cell_type": "code",
   "execution_count": 2,
   "metadata": {},
   "outputs": [
    {
     "name": "stdout",
     "output_type": "stream",
     "text": [
      "Downloading data from https://www.cs.toronto.edu/~kriz/cifar-100-python.tar.gz\n",
      "169009152/169001437 [==============================] - 13s 0us/step\n"
     ]
    }
   ],
   "source": [
    "(X_train, y_train), (X_test, y_test) = keras.datasets.cifar100.load_data(label_mode=\"fine\")"
   ]
  },
  {
   "cell_type": "code",
   "execution_count": 6,
   "metadata": {},
   "outputs": [],
   "source": [
    "X_train = X_train / 255.\n",
    "X_test = X_test / 255."
   ]
  },
  {
   "cell_type": "markdown",
   "metadata": {},
   "source": [
    "## Baseline neural network"
   ]
  },
  {
   "cell_type": "code",
   "execution_count": 9,
   "metadata": {},
   "outputs": [],
   "source": [
    "model_baseline = keras.models.Sequential([\n",
    "    keras.layers.Flatten(input_shape=X_train.shape[1:]),\n",
    "    keras.layers.Dense(500, activation='relu'),\n",
    "    keras.layers.Dense(500, activation='relu'),\n",
    "    keras.layers.Dense(300, activation='relu'),\n",
    "    keras.layers.Dense(300, activation='relu'),\n",
    "    keras.layers.Dense(200, activation='relu'),\n",
    "    keras.layers.Dense(100, activation='softmax'),\n",
    "])"
   ]
  },
  {
   "cell_type": "code",
   "execution_count": 11,
   "metadata": {},
   "outputs": [],
   "source": [
    "early_stopping_cb = keras.callbacks.EarlyStopping(patience=20, restore_best_weights=True)\n",
    "model_checkpoint_cb = keras.callbacks.ModelCheckpoint(filepath='./models/cifar100/baseline', save_best_only=True)\n",
    "tensorboard_cb = keras.callbacks.TensorBoard(log_dir = './logs/cifar100/baseline', histogram_freq=1)\n",
    "callbacks = [early_stopping_cb, model_checkpoint_cb, tensorboard_cb]"
   ]
  },
  {
   "cell_type": "code",
   "execution_count": 13,
   "metadata": {},
   "outputs": [],
   "source": [
    "model_baseline.compile(loss='sparse_categorical_crossentropy', metrics=['accuracy'])"
   ]
  },
  {
   "cell_type": "code",
   "execution_count": 14,
   "metadata": {},
   "outputs": [
    {
     "name": "stdout",
     "output_type": "stream",
     "text": [
      "Epoch 1/200\n",
      "   1/1563 [..............................] - ETA: 0s - loss: 4.5723 - accuracy: 0.0000e+00WARNING:tensorflow:From C:\\Users\\Philipp\\AppData\\Roaming\\Python\\Python37\\site-packages\\tensorflow\\python\\ops\\summary_ops_v2.py:1277: stop (from tensorflow.python.eager.profiler) is deprecated and will be removed after 2020-07-01.\n",
      "Instructions for updating:\n",
      "use `tf.profiler.experimental.stop` instead.\n",
      "   2/1563 [..............................] - ETA: 4:18 - loss: 6.9730 - accuracy: 0.0156  WARNING:tensorflow:Callbacks method `on_train_batch_end` is slow compared to the batch time (batch time: 0.0172s vs `on_train_batch_end` time: 0.3144s). Check your callbacks.\n",
      "1550/1563 [============================>.] - ETA: 0s - loss: 4.2098 - accuracy: 0.0544WARNING:tensorflow:From C:\\Users\\Philipp\\AppData\\Roaming\\Python\\Python37\\site-packages\\tensorflow\\python\\training\\tracking\\tracking.py:111: Model.state_updates (from tensorflow.python.keras.engine.training) is deprecated and will be removed in a future version.\n",
      "Instructions for updating:\n",
      "This property should not be used in TensorFlow 2.0, as updates are applied automatically.\n",
      "WARNING:tensorflow:From C:\\Users\\Philipp\\AppData\\Roaming\\Python\\Python37\\site-packages\\tensorflow\\python\\training\\tracking\\tracking.py:111: Layer.updates (from tensorflow.python.keras.engine.base_layer) is deprecated and will be removed in a future version.\n",
      "Instructions for updating:\n",
      "This property should not be used in TensorFlow 2.0, as updates are applied automatically.\n",
      "INFO:tensorflow:Assets written to: ./models/cifar100\\baseline\\assets\n",
      "1563/1563 [==============================] - 8s 5ms/step - loss: 4.2072 - accuracy: 0.0545 - val_loss: 3.9773 - val_accuracy: 0.0846\n",
      "Epoch 2/200\n",
      "1552/1563 [============================>.] - ETA: 0s - loss: 3.8545 - accuracy: 0.1033INFO:tensorflow:Assets written to: ./models/cifar100\\baseline\\assets\n",
      "1563/1563 [==============================] - 7s 5ms/step - loss: 3.8545 - accuracy: 0.1032 - val_loss: 3.9059 - val_accuracy: 0.0969\n",
      "Epoch 3/200\n",
      "1552/1563 [============================>.] - ETA: 0s - loss: 3.6966 - accuracy: 0.1351INFO:tensorflow:Assets written to: ./models/cifar100\\baseline\\assets\n",
      "1563/1563 [==============================] - 7s 5ms/step - loss: 3.6962 - accuracy: 0.1351 - val_loss: 3.6169 - val_accuracy: 0.1477\n",
      "Epoch 4/200\n",
      "1549/1563 [============================>.] - ETA: 0s - loss: 3.6064 - accuracy: 0.1492INFO:tensorflow:Assets written to: ./models/cifar100\\baseline\\assets\n",
      "1563/1563 [==============================] - 7s 5ms/step - loss: 3.6064 - accuracy: 0.1492 - val_loss: 3.6167 - val_accuracy: 0.1580\n",
      "Epoch 5/200\n",
      "1563/1563 [==============================] - 6s 4ms/step - loss: 3.5601 - accuracy: 0.1559 - val_loss: 3.8955 - val_accuracy: 0.1297\n",
      "Epoch 6/200\n",
      "1563/1563 [==============================] - 6s 4ms/step - loss: 3.5241 - accuracy: 0.1655 - val_loss: 3.7482 - val_accuracy: 0.1418\n",
      "Epoch 7/200\n",
      "1563/1563 [==============================] - 6s 4ms/step - loss: 3.5036 - accuracy: 0.1713 - val_loss: 3.7886 - val_accuracy: 0.1471\n",
      "Epoch 8/200\n",
      "1563/1563 [==============================] - 6s 4ms/step - loss: 3.4948 - accuracy: 0.1730 - val_loss: 3.6753 - val_accuracy: 0.1472\n",
      "Epoch 9/200\n",
      "1563/1563 [==============================] - 6s 4ms/step - loss: 3.4775 - accuracy: 0.1757 - val_loss: 3.6283 - val_accuracy: 0.1592\n",
      "Epoch 10/200\n",
      "1548/1563 [============================>.] - ETA: 0s - loss: 3.4593 - accuracy: 0.1807INFO:tensorflow:Assets written to: ./models/cifar100\\baseline\\assets\n",
      "1563/1563 [==============================] - 7s 5ms/step - loss: 3.4605 - accuracy: 0.1807 - val_loss: 3.5895 - val_accuracy: 0.1682\n",
      "Epoch 11/200\n",
      "1563/1563 [==============================] - 6s 4ms/step - loss: 3.4540 - accuracy: 0.1805 - val_loss: 3.7116 - val_accuracy: 0.1489\n",
      "Epoch 12/200\n",
      "1563/1563 [==============================] - 6s 4ms/step - loss: 3.4506 - accuracy: 0.1821 - val_loss: 3.6393 - val_accuracy: 0.1526\n",
      "Epoch 13/200\n",
      "1563/1563 [==============================] - 6s 4ms/step - loss: 3.4472 - accuracy: 0.1818 - val_loss: 3.6245 - val_accuracy: 0.1588\n",
      "Epoch 14/200\n",
      "1563/1563 [==============================] - 6s 4ms/step - loss: 3.4525 - accuracy: 0.1826 - val_loss: 3.8498 - val_accuracy: 0.1389\n",
      "Epoch 15/200\n",
      "1563/1563 [==============================] - 6s 4ms/step - loss: 3.4425 - accuracy: 0.1841 - val_loss: 3.8662 - val_accuracy: 0.1457\n",
      "Epoch 16/200\n",
      "1563/1563 [==============================] - 6s 4ms/step - loss: 3.4447 - accuracy: 0.1840 - val_loss: 3.7165 - val_accuracy: 0.1673\n",
      "Epoch 17/200\n",
      "1563/1563 [==============================] - 6s 4ms/step - loss: 3.4502 - accuracy: 0.1836 - val_loss: 3.7060 - val_accuracy: 0.1656\n",
      "Epoch 18/200\n",
      "1563/1563 [==============================] - 6s 4ms/step - loss: 3.4458 - accuracy: 0.1860 - val_loss: 3.8407 - val_accuracy: 0.1630\n",
      "Epoch 19/200\n",
      "1563/1563 [==============================] - 6s 4ms/step - loss: 3.4331 - accuracy: 0.1872 - val_loss: 3.6240 - val_accuracy: 0.1689\n",
      "Epoch 20/200\n",
      "1563/1563 [==============================] - 6s 4ms/step - loss: 3.4311 - accuracy: 0.1869 - val_loss: 3.6828 - val_accuracy: 0.1582\n",
      "Epoch 21/200\n",
      "1563/1563 [==============================] - 6s 4ms/step - loss: 3.4289 - accuracy: 0.1889 - val_loss: 3.6556 - val_accuracy: 0.1632\n",
      "Epoch 22/200\n",
      "1563/1563 [==============================] - 6s 4ms/step - loss: 3.4151 - accuracy: 0.1896 - val_loss: 3.7271 - val_accuracy: 0.1561\n",
      "Epoch 23/200\n",
      "1563/1563 [==============================] - 6s 4ms/step - loss: 3.4110 - accuracy: 0.1904 - val_loss: 3.6414 - val_accuracy: 0.1685\n",
      "Epoch 24/200\n",
      "1563/1563 [==============================] - 6s 4ms/step - loss: 3.4108 - accuracy: 0.1934 - val_loss: 3.6800 - val_accuracy: 0.1796\n",
      "Epoch 25/200\n",
      "1563/1563 [==============================] - 6s 4ms/step - loss: 3.4038 - accuracy: 0.1950 - val_loss: 3.8787 - val_accuracy: 0.1444\n",
      "Epoch 26/200\n",
      "1563/1563 [==============================] - 6s 4ms/step - loss: 3.4007 - accuracy: 0.1960 - val_loss: 3.6365 - val_accuracy: 0.1796\n",
      "Epoch 27/200\n",
      "1563/1563 [==============================] - 6s 4ms/step - loss: 3.3932 - accuracy: 0.1959 - val_loss: 3.8085 - val_accuracy: 0.1782\n",
      "Epoch 28/200\n",
      "1563/1563 [==============================] - 6s 4ms/step - loss: 3.3914 - accuracy: 0.1981 - val_loss: 3.7735 - val_accuracy: 0.1620\n",
      "Epoch 29/200\n",
      "1563/1563 [==============================] - 6s 4ms/step - loss: 3.3981 - accuracy: 0.2006 - val_loss: 3.7608 - val_accuracy: 0.1566\n",
      "Epoch 30/200\n",
      "1563/1563 [==============================] - 6s 4ms/step - loss: 3.3962 - accuracy: 0.1991 - val_loss: 3.6415 - val_accuracy: 0.1705\n"
     ]
    },
    {
     "data": {
      "text/plain": [
       "<tensorflow.python.keras.callbacks.History at 0x1dc3b4b5188>"
      ]
     },
     "execution_count": 14,
     "metadata": {},
     "output_type": "execute_result"
    }
   ],
   "source": [
    "model_baseline.fit(x=X_train, y=y_train, epochs=200, callbacks=callbacks, validation_data=(X_test, y_test))"
   ]
  },
  {
   "cell_type": "code",
   "execution_count": null,
   "metadata": {},
   "outputs": [],
   "source": []
  }
 ],
 "metadata": {
  "kernelspec": {
   "display_name": "tf2 (Python 3.7.8)",
   "language": "python",
   "name": "tf2"
  },
  "language_info": {
   "codemirror_mode": {
    "name": "ipython",
    "version": 3
   },
   "file_extension": ".py",
   "mimetype": "text/x-python",
   "name": "python",
   "nbconvert_exporter": "python",
   "pygments_lexer": "ipython3",
   "version": "3.7.8"
  }
 },
 "nbformat": 4,
 "nbformat_minor": 4
}
