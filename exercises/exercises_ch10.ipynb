{
 "cells": [
  {
   "cell_type": "markdown",
   "metadata": {
    "Collapsed": "false"
   },
   "source": [
    "# Chapter 10: Introduction to Artificial Neural Networks with Keras"
   ]
  },
  {
   "cell_type": "markdown",
   "metadata": {
    "Collapsed": "false"
   },
   "source": [
    "## Problem 1"
   ]
  },
  {
   "cell_type": "markdown",
   "metadata": {
    "Collapsed": "false"
   },
   "source": [
    "## Problem 2"
   ]
  },
  {
   "cell_type": "code",
   "execution_count": null,
   "metadata": {
    "Collapsed": "false"
   },
   "outputs": [],
   "source": []
  },
  {
   "cell_type": "code",
   "execution_count": null,
   "metadata": {
    "Collapsed": "false"
   },
   "outputs": [],
   "source": []
  },
  {
   "cell_type": "markdown",
   "metadata": {
    "Collapsed": "false"
   },
   "source": [
    "## Problem 3"
   ]
  },
  {
   "cell_type": "markdown",
   "metadata": {
    "Collapsed": "false"
   },
   "source": [
    "* Why is it generally preferable to use a Logistic Regression classifier rather than a classical Perceptron (i.e., a single layer of threshold logic units trained using the Perceptron training algorithm)?\n",
    "* How can you tweak a Perceptron to make it equivalent to a Logistic Regression classifier?"
   ]
  },
  {
   "cell_type": "markdown",
   "metadata": {
    "Collapsed": "false"
   },
   "source": [
    "A perceptron does a hard classification whereas a logistic regression estimated class probabilities. Estimating class probabilities is often easier and allows for the estimation of confidence."
   ]
  },
  {
   "cell_type": "markdown",
   "metadata": {
    "Collapsed": "false"
   },
   "source": [
    "If the output of the network is changes to a softmax or a sigmoid function, the perceptron is equivalent to a logistic regression"
   ]
  },
  {
   "cell_type": "markdown",
   "metadata": {
    "Collapsed": "false"
   },
   "source": [
    "## Problem 4"
   ]
  },
  {
   "cell_type": "markdown",
   "metadata": {
    "Collapsed": "false"
   },
   "source": [
    "Why was the logistic activation function a key ingredient in training the first\n",
    "MLPs?"
   ]
  },
  {
   "cell_type": "markdown",
   "metadata": {
    "Collapsed": "false"
   },
   "source": [
    "The logistic activation function is differentiable everywhere and the gradient is never 0. This allows gradient-based optimization to be able to always improve."
   ]
  },
  {
   "cell_type": "markdown",
   "metadata": {
    "Collapsed": "false"
   },
   "source": [
    "## Problem 5"
   ]
  },
  {
   "cell_type": "markdown",
   "metadata": {
    "Collapsed": "false"
   },
   "source": [
    "Name three popular activation functions. Can you draw them?"
   ]
  },
  {
   "cell_type": "markdown",
   "metadata": {
    "Collapsed": "false"
   },
   "source": [
    "* Sigmoid: $s(x) = \\frac{1}{1+e^{-x}}$\n",
    "* Tanh: $t(x) = 2s(2x) - 1$\n",
    "* Relu: $r(x) = x^+ = \\max(x,0)$"
   ]
  },
  {
   "cell_type": "code",
   "execution_count": 6,
   "metadata": {
    "Collapsed": "false"
   },
   "outputs": [],
   "source": [
    "import numpy as np\n",
    "import matplotlib.pyplot as plt"
   ]
  },
  {
   "cell_type": "code",
   "execution_count": 12,
   "metadata": {
    "Collapsed": "false"
   },
   "outputs": [],
   "source": [
    "s = lambda x: 1 / (1 + np.exp(-x))\n",
    "t = lambda x: 2*s(x) - 1\n",
    "r = lambda x: np.maximum(x, 0)"
   ]
  },
  {
   "cell_type": "code",
   "execution_count": 17,
   "metadata": {
    "Collapsed": "false"
   },
   "outputs": [],
   "source": [
    "x = np.arange(-3,3,0.05)"
   ]
  },
  {
   "cell_type": "code",
   "execution_count": 18,
   "metadata": {
    "Collapsed": "false"
   },
   "outputs": [
    {
     "data": {
      "image/png": "[encoded data removed]",
      "text/plain": [
       "<Figure size 432x288 with 1 Axes>"
      ]
     },
     "metadata": {
      "needs_background": "light"
     },
     "output_type": "display_data"
    }
   ],
   "source": [
    "plt.plot(x, s(x), 'b-', label='Sigmoid')\n",
    "plt.plot(x, t(x), 'g--', label='tanh')\n",
    "plt.plot(x, r(x), 'r-', label='ReLU')\n",
    "plt.grid(True)\n",
    "plt.axis([-3, 3, -1.2, 1.2])\n",
    "plt.show()"
   ]
  },
  {
   "cell_type": "markdown",
   "metadata": {
    "Collapsed": "false"
   },
   "source": [
    "## Problem 6"
   ]
  },
  {
   "cell_type": "markdown",
   "metadata": {
    "Collapsed": "false"
   },
   "source": [
    "Suppose you have an MLP composed of one input layer with 10 passthrough neurons, followed by one hidden layer with 50 artificial neurons, and finally one output layer with 3 artificial neurons. All artificial neurons use the ReLU activation function.\n",
    "\n",
    "* What is the shape of the input matrix $\\mathbf{X}$?\n",
    "* What are the shapes of the hidden layer’s weight vector $\\mathbf{W}_h$ and its bias vector $\\mathbf{b}_h$?\n",
    "* What are the shapes of the output layer’s weight vector $\\mathbf{W}_o$ and its bias vector $\\mathbf{b}_o$?\n",
    "* What is the shape of the network’s output matrix $\\mathbf{Y}$?\n",
    "* Write the equation that computes the network’s output matrix $\\mathbf{Y}$ as a function of $\\mathbf{X}$, $\\mathbf{W}_h$, $\\mathbf{b}_h$, $\\mathbf{W}_o$, and $\\mathbf{b}_o$."
   ]
  },
  {
   "cell_type": "markdown",
   "metadata": {
    "Collapsed": "false"
   },
   "source": [
    "$\\mathbf{X}$ is a $m\\times 10$ dimensional matrix, where $m$ is the number of observations"
   ]
  },
  {
   "cell_type": "markdown",
   "metadata": {
    "Collapsed": "false"
   },
   "source": [
    "$\\mathbf{h} = f(\\mathbf{X}\\mathbf{W}_h + \\mathbf{b}_h)$\n",
    "\n",
    "* $\\mathbf{W}_h$ is a $10\\times 50$ dimensional matrix (each column represents the weights from all input nodes to a single node in the hidden layer, each row represents the weights from a single input node to all the hidden nodes)\n",
    "* $\\mathbf{b}_h$ is a $50$-dimensional vector"
   ]
  },
  {
   "cell_type": "markdown",
   "metadata": {
    "Collapsed": "false"
   },
   "source": [
    "$\\mathbf{Y} = f(\\mathbf{h}\\mathbf{W}_o + \\mathbf{b}_o)$\n",
    "\n",
    "* $\\mathbf{W}_o$ is a $50\\times 3$ dimensiona matrix\n",
    "* $\\mathbf{b}_o$ is a $3$ dimensional vector"
   ]
  },
  {
   "cell_type": "markdown",
   "metadata": {
    "Collapsed": "false"
   },
   "source": [
    "The output matrix $\\mathbf{Y}$ is $m\\times 3$ dimensional"
   ]
  },
  {
   "cell_type": "markdown",
   "metadata": {
    "Collapsed": "false"
   },
   "source": [
    "$\\mathbf{Y} = (\\mathbf{h}\\mathbf{W}_o + \\mathbf{b}_o)^+ = ((\\mathbf{X}\\mathbf{W}_h + \\mathbf{b}_h)^+\\mathbf{W}_o + \\mathbf{b}_o)^+$\n",
    "\n",
    "with the convention that adding a vector to a matrix means that the vector is added to each column of the matrix"
   ]
  },
  {
   "cell_type": "markdown",
   "metadata": {
    "Collapsed": "false"
   },
   "source": [
    "## Problem 7"
   ]
  },
  {
   "cell_type": "markdown",
   "metadata": {
    "Collapsed": "false"
   },
   "source": [
    "* How many neurons do you need in the output layer if you want to classify email into spam or ham?\n",
    "* What activation function should you use in the output layer?\n",
    "* If instead you want to tackle MNIST, how many neurons do you need in the output layer, and which activation function should you use?\n",
    "* What about for getting your network to predict housing prices, as in Chapter 2?"
   ]
  },
  {
   "cell_type": "markdown",
   "metadata": {
    "Collapsed": "false"
   },
   "source": [
    "Either use two output nodes with a softmax or a single output node with a sigmoid activation"
   ]
  },
  {
   "cell_type": "markdown",
   "metadata": {
    "Collapsed": "false"
   },
   "source": [
    "Use 10 output nodes with softmax activation"
   ]
  },
  {
   "cell_type": "markdown",
   "metadata": {
    "Collapsed": "false"
   },
   "source": [
    "Use a single node with no activation"
   ]
  },
  {
   "cell_type": "markdown",
   "metadata": {
    "Collapsed": "false"
   },
   "source": [
    "## Problem 8"
   ]
  },
  {
   "cell_type": "markdown",
   "metadata": {
    "Collapsed": "false"
   },
   "source": [
    "* What is backpropagation and how does it work?\n",
    "* What is the difference between backpropagation and reverse-mode autodiff?"
   ]
  },
  {
   "cell_type": "markdown",
   "metadata": {
    "Collapsed": "false"
   },
   "source": [
    "Backpropagation is an algorithm that calculates the gradient of a neural network by applying the chain-rule for differentiation step-by-step backwards through the network, starting with the loss at the output back to the input layer."
   ]
  },
  {
   "cell_type": "markdown",
   "metadata": {
    "Collapsed": "false"
   },
   "source": [
    "Reverse-mode autodiff is an implementation of the backpropagation idea"
   ]
  },
  {
   "cell_type": "markdown",
   "metadata": {
    "Collapsed": "false"
   },
   "source": [
    "## Problem 9"
   ]
  },
  {
   "cell_type": "markdown",
   "metadata": {
    "Collapsed": "false"
   },
   "source": [
    "* Can you list all the hyperparameters you can tweak in a basic MLP?\n",
    "* If the MLP overfits the training data, how could you tweak these hyperparameters to try to solve the problem?"
   ]
  },
  {
   "cell_type": "markdown",
   "metadata": {
    "Collapsed": "false"
   },
   "source": [
    "* Learning rate\n",
    "* Optimization algorithm\n",
    "* Number of layers\n",
    "* Nodes per layer\n",
    "* Activation function per layer"
   ]
  },
  {
   "cell_type": "markdown",
   "metadata": {
    "Collapsed": "false"
   },
   "source": [
    "## Problem 10"
   ]
  },
  {
   "cell_type": "markdown",
   "metadata": {
    "Collapsed": "false"
   },
   "source": [
    "* Train a deep MLP on the MNIST dataset (you can load it using keras.datasets.mnist.load_data().\n",
    "    - See if you can get over 98% precision.\n",
    "    - Try searching for the optimal learning rate by using the approach presented in this chapter (i.e., by growing the learning rate exponentially, plotting the loss, and finding the point where the loss shoots up).\n",
    "    - Try adding all the bells and whistles—save checkpoints, use early stopping, and plot learning curves using TensorBoard."
   ]
  },
  {
   "cell_type": "code",
   "execution_count": 1,
   "metadata": {
    "Collapsed": "false"
   },
   "outputs": [],
   "source": [
    "import tensorflow as tf\n",
    "from tensorflow import keras"
   ]
  },
  {
   "cell_type": "code",
   "execution_count": 2,
   "metadata": {
    "Collapsed": "false"
   },
   "outputs": [],
   "source": [
    "(X_train, y_train), (X_test, y_test) = keras.datasets.mnist.load_data()"
   ]
  },
  {
   "cell_type": "code",
   "execution_count": 3,
   "metadata": {
    "Collapsed": "false"
   },
   "outputs": [],
   "source": [
    "X_train = X_train / 255.\n",
    "X_test = X_test / 255."
   ]
  },
  {
   "cell_type": "code",
   "execution_count": 4,
   "metadata": {
    "Collapsed": "false"
   },
   "outputs": [],
   "source": [
    "num_valid = round(X_train.shape[0] * 0.1)\n",
    "X_valid, X_train = X_train[:num_valid], X_train[num_valid:]\n",
    "y_valid, y_train = y_train[:num_valid], y_train[num_valid:]"
   ]
  },
  {
   "cell_type": "code",
   "execution_count": 5,
   "metadata": {
    "Collapsed": "false"
   },
   "outputs": [],
   "source": [
    "model = keras.models.Sequential()\n",
    "model.add(keras.layers.Flatten(input_shape=[28, 28]))\n",
    "model.add(keras.layers.Dense(14*14, activation='relu'))\n",
    "model.add(keras.layers.Dense(14*7, activation='relu'))\n",
    "model.add(keras.layers.Dense(7*7, activation='relu'))\n",
    "model.add(keras.layers.Dense(10, activation='softmax'))"
   ]
  },
  {
   "cell_type": "code",
   "execution_count": 8,
   "metadata": {
    "Collapsed": "false"
   },
   "outputs": [],
   "source": [
    "model.compile(loss='sparse_categorical_crossentropy',\n",
    "              optimizer=keras.optimizers.SGD(lr=0.001),\n",
    "              metrics=['accuracy'])"
   ]
  },
  {
   "cell_type": "code",
   "execution_count": 11,
   "metadata": {
    "Collapsed": "false"
   },
   "outputs": [
    {
     "name": "stdout",
     "output_type": "stream",
     "text": [
      "Train on 54000 samples, validate on 6000 samples\n",
      "Epoch 1/50\n",
      "54000/54000 [==============================] - 3s 48us/sample - loss: 0.2245 - accuracy: 0.9348 - val_loss: 0.2166 - val_accuracy: 0.9375\n",
      "Epoch 2/50\n",
      "54000/54000 [==============================] - 3s 46us/sample - loss: 0.2198 - accuracy: 0.9369 - val_loss: 0.2107 - val_accuracy: 0.9380\n",
      "Epoch 3/50\n",
      "54000/54000 [==============================] - 3s 46us/sample - loss: 0.2149 - accuracy: 0.9379 - val_loss: 0.2063 - val_accuracy: 0.9403\n",
      "Epoch 4/50\n",
      "54000/54000 [==============================] - 3s 47us/sample - loss: 0.2102 - accuracy: 0.9392 - val_loss: 0.2025 - val_accuracy: 0.9415\n",
      "Epoch 5/50\n",
      "54000/54000 [==============================] - 3s 47us/sample - loss: 0.2057 - accuracy: 0.9409 - val_loss: 0.1991 - val_accuracy: 0.9432\n",
      "Epoch 6/50\n",
      "54000/54000 [==============================] - 3s 48us/sample - loss: 0.2016 - accuracy: 0.9418 - val_loss: 0.1967 - val_accuracy: 0.9427\n",
      "Epoch 7/50\n",
      "54000/54000 [==============================] - 3s 49us/sample - loss: 0.1975 - accuracy: 0.9434 - val_loss: 0.1929 - val_accuracy: 0.9442\n",
      "Epoch 8/50\n",
      "54000/54000 [==============================] - 3s 47us/sample - loss: 0.1936 - accuracy: 0.9442 - val_loss: 0.1894 - val_accuracy: 0.9462\n",
      "Epoch 9/50\n",
      "54000/54000 [==============================] - 3s 47us/sample - loss: 0.1899 - accuracy: 0.9455 - val_loss: 0.1854 - val_accuracy: 0.9475\n",
      "Epoch 10/50\n",
      "54000/54000 [==============================] - 3s 47us/sample - loss: 0.1861 - accuracy: 0.9470 - val_loss: 0.1831 - val_accuracy: 0.9482\n",
      "Epoch 11/50\n",
      "54000/54000 [==============================] - 3s 46us/sample - loss: 0.1827 - accuracy: 0.9476 - val_loss: 0.1802 - val_accuracy: 0.9490\n",
      "Epoch 12/50\n",
      "54000/54000 [==============================] - 3s 54us/sample - loss: 0.1791 - accuracy: 0.9491 - val_loss: 0.1770 - val_accuracy: 0.9498\n",
      "Epoch 13/50\n",
      "54000/54000 [==============================] - 3s 47us/sample - loss: 0.1759 - accuracy: 0.9501 - val_loss: 0.1756 - val_accuracy: 0.9507\n",
      "Epoch 14/50\n",
      "54000/54000 [==============================] - 3s 48us/sample - loss: 0.1728 - accuracy: 0.9509 - val_loss: 0.1714 - val_accuracy: 0.9523\n",
      "Epoch 15/50\n",
      "54000/54000 [==============================] - 3s 47us/sample - loss: 0.1696 - accuracy: 0.9520 - val_loss: 0.1698 - val_accuracy: 0.9518\n",
      "Epoch 16/50\n",
      "54000/54000 [==============================] - 3s 46us/sample - loss: 0.1666 - accuracy: 0.9525 - val_loss: 0.1667 - val_accuracy: 0.9522\n",
      "Epoch 17/50\n",
      "54000/54000 [==============================] - 3s 47us/sample - loss: 0.1637 - accuracy: 0.9534 - val_loss: 0.1649 - val_accuracy: 0.9538\n",
      "Epoch 18/50\n",
      "54000/54000 [==============================] - 2s 46us/sample - loss: 0.1608 - accuracy: 0.9547 - val_loss: 0.1619 - val_accuracy: 0.9537\n",
      "Epoch 19/50\n",
      "54000/54000 [==============================] - 3s 46us/sample - loss: 0.1582 - accuracy: 0.9552 - val_loss: 0.1598 - val_accuracy: 0.9547\n",
      "Epoch 20/50\n",
      "54000/54000 [==============================] - 3s 48us/sample - loss: 0.1553 - accuracy: 0.9562 - val_loss: 0.1581 - val_accuracy: 0.9562\n",
      "Epoch 21/50\n",
      "54000/54000 [==============================] - 3s 48us/sample - loss: 0.1528 - accuracy: 0.9571 - val_loss: 0.1558 - val_accuracy: 0.9557\n",
      "Epoch 22/50\n",
      "54000/54000 [==============================] - 2s 46us/sample - loss: 0.1503 - accuracy: 0.9578 - val_loss: 0.1539 - val_accuracy: 0.9575\n",
      "Epoch 23/50\n",
      "54000/54000 [==============================] - 3s 47us/sample - loss: 0.1478 - accuracy: 0.9585 - val_loss: 0.1516 - val_accuracy: 0.9570\n",
      "Epoch 24/50\n",
      "54000/54000 [==============================] - 3s 47us/sample - loss: 0.1453 - accuracy: 0.9588 - val_loss: 0.1490 - val_accuracy: 0.9588\n",
      "Epoch 25/50\n",
      "54000/54000 [==============================] - 3s 48us/sample - loss: 0.1431 - accuracy: 0.9599 - val_loss: 0.1475 - val_accuracy: 0.9580\n",
      "Epoch 26/50\n",
      "54000/54000 [==============================] - 3s 47us/sample - loss: 0.1406 - accuracy: 0.9604 - val_loss: 0.1462 - val_accuracy: 0.9583\n",
      "Epoch 27/50\n",
      "54000/54000 [==============================] - 3s 46us/sample - loss: 0.1384 - accuracy: 0.9614 - val_loss: 0.1441 - val_accuracy: 0.9607\n",
      "Epoch 28/50\n",
      "54000/54000 [==============================] - 3s 47us/sample - loss: 0.1359 - accuracy: 0.9619 - val_loss: 0.1435 - val_accuracy: 0.9615\n",
      "Epoch 29/50\n",
      "54000/54000 [==============================] - 3s 46us/sample - loss: 0.1339 - accuracy: 0.9626 - val_loss: 0.1423 - val_accuracy: 0.9612\n",
      "Epoch 30/50\n",
      "54000/54000 [==============================] - 3s 62us/sample - loss: 0.1318 - accuracy: 0.9630 - val_loss: 0.1390 - val_accuracy: 0.9618\n",
      "Epoch 31/50\n",
      "54000/54000 [==============================] - 3s 49us/sample - loss: 0.1301 - accuracy: 0.9635 - val_loss: 0.1380 - val_accuracy: 0.9618\n",
      "Epoch 32/50\n",
      "54000/54000 [==============================] - 2s 45us/sample - loss: 0.1279 - accuracy: 0.9640 - val_loss: 0.1363 - val_accuracy: 0.9627\n",
      "Epoch 33/50\n",
      "54000/54000 [==============================] - 3s 48us/sample - loss: 0.1260 - accuracy: 0.9646 - val_loss: 0.1351 - val_accuracy: 0.9623\n",
      "Epoch 34/50\n",
      "54000/54000 [==============================] - 3s 47us/sample - loss: 0.1241 - accuracy: 0.9654 - val_loss: 0.1339 - val_accuracy: 0.9635\n",
      "Epoch 35/50\n",
      "54000/54000 [==============================] - 2s 46us/sample - loss: 0.1222 - accuracy: 0.9660 - val_loss: 0.1338 - val_accuracy: 0.9630\n",
      "Epoch 36/50\n",
      "54000/54000 [==============================] - 3s 49us/sample - loss: 0.1205 - accuracy: 0.9665 - val_loss: 0.1314 - val_accuracy: 0.9640\n",
      "Epoch 37/50\n",
      "54000/54000 [==============================] - 3s 47us/sample - loss: 0.1186 - accuracy: 0.9673 - val_loss: 0.1304 - val_accuracy: 0.9650\n",
      "Epoch 38/50\n",
      "54000/54000 [==============================] - 3s 47us/sample - loss: 0.1171 - accuracy: 0.9674 - val_loss: 0.1282 - val_accuracy: 0.9647\n",
      "Epoch 39/50\n",
      "54000/54000 [==============================] - 3s 58us/sample - loss: 0.1152 - accuracy: 0.9679 - val_loss: 0.1278 - val_accuracy: 0.9653\n",
      "Epoch 40/50\n",
      "54000/54000 [==============================] - 3s 47us/sample - loss: 0.1136 - accuracy: 0.9682 - val_loss: 0.1261 - val_accuracy: 0.9660\n",
      "Epoch 41/50\n",
      "54000/54000 [==============================] - 3s 46us/sample - loss: 0.1120 - accuracy: 0.9688 - val_loss: 0.1250 - val_accuracy: 0.9658\n",
      "Epoch 42/50\n",
      "54000/54000 [==============================] - 3s 47us/sample - loss: 0.1102 - accuracy: 0.9692 - val_loss: 0.1234 - val_accuracy: 0.9662\n",
      "Epoch 43/50\n",
      "54000/54000 [==============================] - 2s 46us/sample - loss: 0.1089 - accuracy: 0.9696 - val_loss: 0.1227 - val_accuracy: 0.9662\n",
      "Epoch 44/50\n",
      "54000/54000 [==============================] - 3s 47us/sample - loss: 0.1072 - accuracy: 0.9699 - val_loss: 0.1219 - val_accuracy: 0.9677\n",
      "Epoch 45/50\n",
      "54000/54000 [==============================] - 2s 46us/sample - loss: 0.1059 - accuracy: 0.9704 - val_loss: 0.1212 - val_accuracy: 0.9675\n",
      "Epoch 46/50\n",
      "54000/54000 [==============================] - 2s 46us/sample - loss: 0.1044 - accuracy: 0.9705 - val_loss: 0.1194 - val_accuracy: 0.9668\n",
      "Epoch 47/50\n",
      "54000/54000 [==============================] - 3s 47us/sample - loss: 0.1029 - accuracy: 0.9713 - val_loss: 0.1185 - val_accuracy: 0.9672\n",
      "Epoch 48/50\n",
      "54000/54000 [==============================] - 3s 47us/sample - loss: 0.1016 - accuracy: 0.9717 - val_loss: 0.1186 - val_accuracy: 0.9670\n",
      "Epoch 49/50\n",
      "54000/54000 [==============================] - 3s 51us/sample - loss: 0.1002 - accuracy: 0.9722 - val_loss: 0.1164 - val_accuracy: 0.9685\n",
      "Epoch 50/50\n",
      "54000/54000 [==============================] - 3s 48us/sample - loss: 0.0988 - accuracy: 0.9722 - val_loss: 0.1161 - val_accuracy: 0.9683\n"
     ]
    }
   ],
   "source": [
    "history = model.fit(X_train, y_train, epochs=50, validation_data=(X_valid, y_valid))"
   ]
  },
  {
   "cell_type": "code",
   "execution_count": null,
   "metadata": {
    "Collapsed": "false"
   },
   "outputs": [],
   "source": []
  }
 ],
 "metadata": {
  "kernelspec": {
   "display_name": "tf2",
   "language": "python",
   "name": "tf2"
  },
  "language_info": {
   "codemirror_mode": {
    "name": "ipython",
    "version": 3
   },
   "file_extension": ".py",
   "mimetype": "text/x-python",
   "name": "python",
   "nbconvert_exporter": "python",
   "pygments_lexer": "ipython3",
   "version": "3.7.6"
  }
 },
 "nbformat": 4,
 "nbformat_minor": 4
}
